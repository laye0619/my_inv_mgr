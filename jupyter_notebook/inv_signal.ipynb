{
 "cells": [
  {
   "cell_type": "code",
   "execution_count": 1,
   "metadata": {},
   "outputs": [],
   "source": [
    "import sys\n",
    "import os\n",
    "sys.path.append(os.path.abspath('..'))\n",
    "import pandas as pd\n",
    "\n",
    "import utility\n",
    "import inv_signal.inv_signal"
   ]
  },
  {
   "cell_type": "code",
   "execution_count": 2,
   "metadata": {},
   "outputs": [
    {
     "name": "stdout",
     "output_type": "stream",
     "text": [
      "Today is: 2021-02-10, T28 operation is: 调仓至399006.SZ\n",
      "000903.SH up: 2.1169719120770996; 399006.SZ up: 4.8388579670612355\n",
      "t: 5894.4319 - 3334.2422\n",
      "t-19: 5745.515 - 3130.2979\n",
      "t-20: 5772.2353 - 3180.3496\n"
     ]
    }
   ],
   "source": [
    "inv_signal.inv_signal.t28_signal()"
   ]
  },
  {
   "cell_type": "code",
   "execution_count": 3,
   "metadata": {},
   "outputs": [
    {
     "name": "stdout",
     "output_type": "stream",
     "text": [
      "中证500    0.293634\n",
      "沪深300    0.911294\n",
      "中证红利     0.148665\n",
      "创业板指     0.857084\n",
      "中证医药     0.828747\n",
      "中证传媒     0.479567\n",
      "全指金融     0.157667\n",
      "养老产业     0.836710\n",
      "中证环保     0.090954\n",
      "全指消费     0.430670\n",
      "证券公司     0.429577\n",
      "上证50     0.956057\n",
      "Name: 2021-02-05 00:00:00, dtype: float64\n"
     ]
    }
   ],
   "source": [
    "inv_signal.inv_signal.inv_by_pe_pb_signal()"
   ]
  },
  {
   "cell_type": "code",
   "execution_count": null,
   "metadata": {},
   "outputs": [],
   "source": []
  }
 ],
 "metadata": {
  "kernelspec": {
   "display_name": "Python 3",
   "language": "python",
   "name": "python3"
  },
  "language_info": {
   "codemirror_mode": {
    "name": "ipython",
    "version": 3
   },
   "file_extension": ".py",
   "mimetype": "text/x-python",
   "name": "python",
   "nbconvert_exporter": "python",
   "pygments_lexer": "ipython3",
   "version": "3.8.5"
  }
 },
 "nbformat": 4,
 "nbformat_minor": 4
}
