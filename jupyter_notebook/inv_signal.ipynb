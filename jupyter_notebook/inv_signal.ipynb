{
 "cells": [
  {
   "cell_type": "code",
   "execution_count": 4,
   "metadata": {},
   "outputs": [],
   "source": [
    "import sys\n",
    "import os\n",
    "sys.path.append(os.path.abspath('..'))\n",
    "import pandas as pd\n",
    "\n",
    "import utility\n",
    "import inv_signal.inv_signal"
   ]
  },
  {
   "cell_type": "code",
   "execution_count": 5,
   "metadata": {},
   "outputs": [
    {
     "name": "stdout",
     "output_type": "stream",
     "text": [
      "Today is: 2021-01-16, T28 operation is: 调仓至399006.SZ\n",
      "000903.SH up: 8.84907593257014; 399006.SZ up: 10.925033331056161\n"
     ]
    }
   ],
   "source": [
    "inv_signal.inv_signal.t28_signal()"
   ]
  },
  {
   "cell_type": "code",
   "execution_count": 6,
   "metadata": {},
   "outputs": [
    {
     "name": "stdout",
     "output_type": "stream",
     "text": [
      "中证500    0.469984\n",
      "沪深300    0.957237\n",
      "中证红利     0.172286\n",
      "创业板指     0.896793\n",
      "中证医药     0.856086\n",
      "中证传媒     0.497878\n",
      "全指金融     0.280435\n",
      "养老产业     0.858736\n",
      "中证环保     0.218920\n",
      "全指消费     0.502174\n",
      "证券公司     0.687056\n",
      "上证50     0.976974\n",
      "Name: 2021-01-15 00:00:00, dtype: float64\n"
     ]
    }
   ],
   "source": [
    "inv_signal.inv_signal.inv_by_pe_pb_signal()"
   ]
  },
  {
   "cell_type": "code",
   "execution_count": null,
   "metadata": {},
   "outputs": [],
   "source": []
  }
 ],
 "metadata": {
  "kernelspec": {
   "display_name": "Python 3",
   "language": "python",
   "name": "python3"
  },
  "language_info": {
   "codemirror_mode": {
    "name": "ipython",
    "version": 3
   },
   "file_extension": ".py",
   "mimetype": "text/x-python",
   "name": "python",
   "nbconvert_exporter": "python",
   "pygments_lexer": "ipython3",
   "version": "3.8.5"
  }
 },
 "nbformat": 4,
 "nbformat_minor": 4
}
