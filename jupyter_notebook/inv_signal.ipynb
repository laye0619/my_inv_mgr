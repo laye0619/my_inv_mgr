{
 "cells": [
  {
   "cell_type": "code",
   "execution_count": 1,
   "metadata": {},
   "outputs": [],
   "source": [
    "import sys\n",
    "import os\n",
    "sys.path.append(os.path.abspath('..'))\n",
    "import pandas as pd\n",
    "\n",
    "import utility\n",
    "import inv_signal.inv_signal"
   ]
  },
  {
   "cell_type": "code",
   "execution_count": 2,
   "metadata": {},
   "outputs": [
    {
     "name": "stdout",
     "output_type": "stream",
     "text": [
      "Today is: 2021-01-13, T28 operation is: 调仓至399006.SZ\n",
      "000903.SH up: 13.386165431986555; 399006.SZ up: 13.463678006082667\n"
     ]
    }
   ],
   "source": [
    "inv_signal.inv_signal.t28_signal()"
   ]
  },
  {
   "cell_type": "code",
   "execution_count": 3,
   "metadata": {},
   "outputs": [
    {
     "name": "stdout",
     "output_type": "stream",
     "text": [
      "中证500    0.493421\n",
      "沪深300    0.959704\n",
      "中证红利     0.160773\n",
      "创业板指     0.898849\n",
      "中证医药     0.868010\n",
      "中证传媒     0.487242\n",
      "全指金融     0.282978\n",
      "养老产业     0.879578\n",
      "中证环保     0.187996\n",
      "全指消费     0.548106\n",
      "证券公司     0.713348\n",
      "上证50     0.985197\n",
      "Name: 2021-01-12 00:00:00, dtype: float64\n"
     ]
    }
   ],
   "source": [
    "inv_signal.inv_signal.inv_by_pe_pb_signal()"
   ]
  },
  {
   "cell_type": "code",
   "execution_count": null,
   "metadata": {},
   "outputs": [],
   "source": []
  }
 ],
 "metadata": {
  "kernelspec": {
   "display_name": "Python 3",
   "language": "python",
   "name": "python3"
  },
  "language_info": {
   "codemirror_mode": {
    "name": "ipython",
    "version": 3
   },
   "file_extension": ".py",
   "mimetype": "text/x-python",
   "name": "python",
   "nbconvert_exporter": "python",
   "pygments_lexer": "ipython3",
   "version": "3.8.5"
  }
 },
 "nbformat": 4,
 "nbformat_minor": 4
}
