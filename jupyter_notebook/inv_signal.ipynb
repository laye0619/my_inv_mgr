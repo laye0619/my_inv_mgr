{
 "cells": [
  {
   "cell_type": "code",
   "execution_count": 1,
   "metadata": {},
   "outputs": [],
   "source": [
    "import sys\n",
    "import os\n",
    "sys.path.append(os.path.abspath('..'))\n",
    "import pandas as pd\n",
    "\n",
    "import utility\n",
    "import inv_signal.inv_signal"
   ]
  },
  {
   "cell_type": "code",
   "execution_count": 2,
   "metadata": {},
   "outputs": [
    {
     "name": "stdout",
     "output_type": "stream",
     "text": [
      "Today is: 2021-03-04, T28 operation is: 调仓至货币基金/债券\n",
      "000903.SH up: -0.7940475050825586; 399006.SZ up: -8.633912424770195\n",
      "t: 5642.6694 - 2997.7492\n",
      "t-19: 5543.8077 - 3161.8634\n",
      "t-20: 5687.8335 - 3281.0305\n"
     ]
    }
   ],
   "source": [
    "inv_signal.inv_signal.t28_signal()"
   ]
  },
  {
   "cell_type": "code",
   "execution_count": 3,
   "metadata": {},
   "outputs": [
    {
     "name": "stdout",
     "output_type": "stream",
     "text": [
      "中证500    0.495888\n",
      "沪深300    0.938322\n",
      "中证红利     0.231086\n",
      "创业板指     0.810444\n",
      "中证医药     0.804276\n",
      "中证传媒     0.497613\n",
      "全指金融     0.225612\n",
      "养老产业     0.804388\n",
      "中证环保     0.223363\n",
      "全指消费     0.460679\n",
      "证券公司     0.467707\n",
      "上证50     0.957648\n",
      "Name: 2021-03-02 00:00:00, dtype: float64\n"
     ]
    }
   ],
   "source": [
    "inv_signal.inv_signal.inv_by_pe_pb_signal()"
   ]
  },
  {
   "cell_type": "code",
   "execution_count": null,
   "metadata": {},
   "outputs": [],
   "source": []
  }
 ],
 "metadata": {
  "kernelspec": {
   "display_name": "Python 3",
   "language": "python",
   "name": "python3"
  },
  "language_info": {
   "codemirror_mode": {
    "name": "ipython",
    "version": 3
   },
   "file_extension": ".py",
   "mimetype": "text/x-python",
   "name": "python",
   "nbconvert_exporter": "python",
   "pygments_lexer": "ipython3",
   "version": "3.8.5"
  }
 },
 "nbformat": 4,
 "nbformat_minor": 4
}
