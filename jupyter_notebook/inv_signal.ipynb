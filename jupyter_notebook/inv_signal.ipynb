{
 "cells": [
  {
   "cell_type": "code",
   "execution_count": 1,
   "metadata": {},
   "outputs": [],
   "source": [
    "import sys\n",
    "import os\n",
    "sys.path.append(os.path.abspath('..'))\n",
    "import pandas as pd\n",
    "\n",
    "import utility\n",
    "import inv_signal.inv_signal"
   ]
  },
  {
   "cell_type": "code",
   "execution_count": 2,
   "metadata": {},
   "outputs": [
    {
     "name": "stdout",
     "output_type": "stream",
     "text": [
      "Today is: 2021-03-15, T28 operation is: 调仓至货币基金/债券\n",
      "000903.SH up: -9.575895537935622; 399006.SZ up: -19.342090809006777\n",
      "t: 5230.4645 - 2644.0149\n",
      "t-19: 5894.4319 - 3334.2422\n",
      "t-20: 5784.3697 - 3278.0603\n"
     ]
    }
   ],
   "source": [
    "inv_signal.inv_signal.t28_signal()"
   ]
  },
  {
   "cell_type": "code",
   "execution_count": 3,
   "metadata": {},
   "outputs": [
    {
     "name": "stdout",
     "output_type": "stream",
     "text": [
      "中证500    0.375822\n",
      "沪深300    0.881168\n",
      "中证红利     0.261513\n",
      "创业板指     0.726151\n",
      "中证医药     0.778783\n",
      "中证传媒     0.516033\n",
      "全指金融     0.230407\n",
      "养老产业     0.647665\n",
      "中证环保     0.222980\n",
      "全指消费     0.348180\n",
      "证券公司     0.395498\n",
      "上证50     0.942845\n",
      "Name: 2021-03-12 00:00:00, dtype: float64\n"
     ]
    }
   ],
   "source": [
    "inv_signal.inv_signal.inv_by_pe_pb_signal()"
   ]
  },
  {
   "cell_type": "code",
   "execution_count": null,
   "metadata": {},
   "outputs": [],
   "source": []
  }
 ],
 "metadata": {
  "kernelspec": {
   "display_name": "Python 3",
   "language": "python",
   "name": "python3"
  },
  "language_info": {
   "codemirror_mode": {
    "name": "ipython",
    "version": 3
   },
   "file_extension": ".py",
   "mimetype": "text/x-python",
   "name": "python",
   "nbconvert_exporter": "python",
   "pygments_lexer": "ipython3",
   "version": "3.8.8"
  }
 },
 "nbformat": 4,
 "nbformat_minor": 4
}
